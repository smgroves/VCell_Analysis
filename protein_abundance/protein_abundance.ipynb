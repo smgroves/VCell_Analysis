{
 "cells": [
  {
   "cell_type": "markdown",
   "source": [
    "# Proteomics Data Analysis"
   ],
   "metadata": {
    "collapsed": false
   }
  },
  {
   "cell_type": "markdown",
   "source": [
    "## Cell lines in CCLE\n"
   ],
   "metadata": {
    "collapsed": false
   }
  },
  {
   "cell_type": "code",
   "execution_count": 1,
   "outputs": [],
   "source": [
    "import pandas as pd\n",
    "\n",
    "#read in data from excel\n",
    "cell_lines = pd.read_excel('CCLE_cell_lines_for_prot.xlsx', sheet_name = \"Sample_Information\")\n"
   ],
   "metadata": {
    "collapsed": false,
    "ExecuteTime": {
     "end_time": "2023-09-12T15:48:57.852170Z",
     "start_time": "2023-09-12T15:48:56.310017Z"
    }
   }
  },
  {
   "cell_type": "code",
   "execution_count": 2,
   "outputs": [],
   "source": [
    "clines_of_interest = [\"MCF10A\",'HCC1937',\"HCC1395\",\"HCC1599\"]\n",
    "mouse_clines_of_interest = [\"NMUMG\",\"4T1\"]\n",
    "ref_clines_of_interest = [\"HeLa\",'RPES']"
   ],
   "metadata": {
    "collapsed": false,
    "ExecuteTime": {
     "end_time": "2023-09-12T15:48:57.864109Z",
     "start_time": "2023-09-12T15:48:57.857102Z"
    }
   }
  },
  {
   "cell_type": "code",
   "execution_count": 3,
   "outputs": [
    {
     "data": {
      "text/plain": "  Cell Line                        CCLE Code           Tissue of Origin  \\\n0    CAL-33  CAL33_UPPER_AERODIGESTIVE_TRACT  Upper Aerodigestive Tract   \n1    Hs578t                    HS578T_BREAST                     Breast   \n2     SW837            SW837_LARGE_INTESTINE            Large Intestine   \n3  WM-266-4                      WM2664_SKIN                       Skin   \n4    CAL-51                     CAL51_BREAST                     Breast   \n\n   Protein 10-Plex ID Protein TMT Label        Notes  \n0                   0               126  Bridge line  \n1                   0              127c  Bridge line  \n2                   0              127n  Bridge line  \n3                   0              128c  Bridge line  \n4                   0              128n  Bridge line  ",
      "text/html": "<div>\n<style scoped>\n    .dataframe tbody tr th:only-of-type {\n        vertical-align: middle;\n    }\n\n    .dataframe tbody tr th {\n        vertical-align: top;\n    }\n\n    .dataframe thead th {\n        text-align: right;\n    }\n</style>\n<table border=\"1\" class=\"dataframe\">\n  <thead>\n    <tr style=\"text-align: right;\">\n      <th></th>\n      <th>Cell Line</th>\n      <th>CCLE Code</th>\n      <th>Tissue of Origin</th>\n      <th>Protein 10-Plex ID</th>\n      <th>Protein TMT Label</th>\n      <th>Notes</th>\n    </tr>\n  </thead>\n  <tbody>\n    <tr>\n      <th>0</th>\n      <td>CAL-33</td>\n      <td>CAL33_UPPER_AERODIGESTIVE_TRACT</td>\n      <td>Upper Aerodigestive Tract</td>\n      <td>0</td>\n      <td>126</td>\n      <td>Bridge line</td>\n    </tr>\n    <tr>\n      <th>1</th>\n      <td>Hs578t</td>\n      <td>HS578T_BREAST</td>\n      <td>Breast</td>\n      <td>0</td>\n      <td>127c</td>\n      <td>Bridge line</td>\n    </tr>\n    <tr>\n      <th>2</th>\n      <td>SW837</td>\n      <td>SW837_LARGE_INTESTINE</td>\n      <td>Large Intestine</td>\n      <td>0</td>\n      <td>127n</td>\n      <td>Bridge line</td>\n    </tr>\n    <tr>\n      <th>3</th>\n      <td>WM-266-4</td>\n      <td>WM2664_SKIN</td>\n      <td>Skin</td>\n      <td>0</td>\n      <td>128c</td>\n      <td>Bridge line</td>\n    </tr>\n    <tr>\n      <th>4</th>\n      <td>CAL-51</td>\n      <td>CAL51_BREAST</td>\n      <td>Breast</td>\n      <td>0</td>\n      <td>128n</td>\n      <td>Bridge line</td>\n    </tr>\n  </tbody>\n</table>\n</div>"
     },
     "execution_count": 3,
     "metadata": {},
     "output_type": "execute_result"
    }
   ],
   "source": [
    "cell_lines.head()"
   ],
   "metadata": {
    "collapsed": false,
    "ExecuteTime": {
     "end_time": "2023-09-12T15:49:09.449649Z",
     "start_time": "2023-09-12T15:49:09.234679Z"
    }
   }
  },
  {
   "cell_type": "code",
   "execution_count": 5,
   "outputs": [
    {
     "name": "stdout",
     "output_type": "stream",
     "text": [
      "MCF10A\n",
      "not found\n",
      "HCC1937\n",
      "Found in dataset\n",
      "HCC1395\n",
      "Found in dataset\n",
      "HCC1599\n",
      "not found\n"
     ]
    }
   ],
   "source": [
    "for i in clines_of_interest:\n",
    "    print(i)\n",
    "    if cell_lines[cell_lines[\"Cell Line\"]==i].empty:\n",
    "        print(\"not found\")\n",
    "    else:\n",
    "        print('Found in dataset')"
   ],
   "metadata": {
    "collapsed": false,
    "ExecuteTime": {
     "end_time": "2023-09-12T15:50:55.468795Z",
     "start_time": "2023-09-12T15:50:55.403430Z"
    }
   }
  },
  {
   "cell_type": "code",
   "execution_count": null,
   "outputs": [],
   "source": [],
   "metadata": {
    "collapsed": false
   }
  },
  {
   "cell_type": "markdown",
   "source": [
    "## Proteins in CCLE"
   ],
   "metadata": {
    "collapsed": false
   }
  },
  {
   "cell_type": "code",
   "execution_count": 8,
   "outputs": [],
   "source": [
    "data = pd.read_excel('CCLE_Protein.xlsx', sheet_name='Normalized Protein Expression')\n"
   ],
   "metadata": {
    "collapsed": false,
    "ExecuteTime": {
     "end_time": "2023-09-12T18:19:59.567210Z",
     "start_time": "2023-09-12T18:18:18.922762Z"
    }
   }
  },
  {
   "cell_type": "code",
   "execution_count": 9,
   "outputs": [],
   "source": [
    "model_proteins = ['BUB1',\n",
    "                  \"MPS1\",\n",
    "                  \"AURKB\",\n",
    "                  \"CDCA8\", #Borealin\n",
    "                  \"BIRC5\", #Survivin\n",
    "                  \"CASC5\", #Knl1\n",
    "                  \"SGOL1\", #SGO1\n",
    "                  \"TTK\", #Mps1\n",
    "                  \"GSG2\", #Haspin\n",
    "                  \"PLK1\",\n",
    "                  \"NDC80\",\n",
    "                  'INCENP'\n",
    " ]"
   ],
   "metadata": {
    "collapsed": false,
    "ExecuteTime": {
     "end_time": "2023-09-12T18:21:05.202257Z",
     "start_time": "2023-09-12T18:21:05.184005Z"
    }
   }
  },
  {
   "cell_type": "code",
   "execution_count": 15,
   "outputs": [
    {
     "data": {
      "text/plain": "  Gene_Symbol  HCC1395_BREAST_TenPx15  HCC1937_BREAST_TenPx18\n0     SLC12A2               -0.699377               -0.303711\n1      HOXD13                     NaN                     NaN\n2       KDM1A               -0.142239                0.096498\n3        SOX1               -1.584490                0.368069\n4        SOX2                0.092982               -0.247699",
      "text/html": "<div>\n<style scoped>\n    .dataframe tbody tr th:only-of-type {\n        vertical-align: middle;\n    }\n\n    .dataframe tbody tr th {\n        vertical-align: top;\n    }\n\n    .dataframe thead th {\n        text-align: right;\n    }\n</style>\n<table border=\"1\" class=\"dataframe\">\n  <thead>\n    <tr style=\"text-align: right;\">\n      <th></th>\n      <th>Gene_Symbol</th>\n      <th>HCC1395_BREAST_TenPx15</th>\n      <th>HCC1937_BREAST_TenPx18</th>\n    </tr>\n  </thead>\n  <tbody>\n    <tr>\n      <th>0</th>\n      <td>SLC12A2</td>\n      <td>-0.699377</td>\n      <td>-0.303711</td>\n    </tr>\n    <tr>\n      <th>1</th>\n      <td>HOXD13</td>\n      <td>NaN</td>\n      <td>NaN</td>\n    </tr>\n    <tr>\n      <th>2</th>\n      <td>KDM1A</td>\n      <td>-0.142239</td>\n      <td>0.096498</td>\n    </tr>\n    <tr>\n      <th>3</th>\n      <td>SOX1</td>\n      <td>-1.584490</td>\n      <td>0.368069</td>\n    </tr>\n    <tr>\n      <th>4</th>\n      <td>SOX2</td>\n      <td>0.092982</td>\n      <td>-0.247699</td>\n    </tr>\n  </tbody>\n</table>\n</div>"
     },
     "execution_count": 15,
     "metadata": {},
     "output_type": "execute_result"
    }
   ],
   "source": [
    "# get columns with sample names in them\n",
    "sample_cols = [i for i in data.columns if \"HCC1937\" in i or \"HCC1395\" in i]\n",
    "data_sub = data[[\"Gene_Symbol\"]+sample_cols]\n",
    "data_sub.head()"
   ],
   "metadata": {
    "collapsed": false,
    "ExecuteTime": {
     "end_time": "2023-09-12T19:33:08.361726Z",
     "start_time": "2023-09-12T19:33:08.357517Z"
    }
   }
  },
  {
   "cell_type": "code",
   "execution_count": 16,
   "outputs": [
    {
     "data": {
      "text/plain": "      Gene_Symbol  HCC1395_BREAST_TenPx15  HCC1937_BREAST_TenPx18\n3476        CASC5               -0.342402                1.062156\n5088        NDC80                0.400557               -0.014357\n5383         PLK1                0.128413                0.324359\n6040        AURKB                0.085803                0.784818\n6380        BIRC5               -0.070965                1.396607\n6564          TTK                0.896795                0.398749\n7786        CDCA8               -0.015251                0.340106\n7825         BUB1               -0.868929                0.506849\n8548         GSG2               -0.024352                     NaN\n8587        SGOL1               -0.057897                     NaN\n10720      INCENP                0.494052                0.980562",
      "text/html": "<div>\n<style scoped>\n    .dataframe tbody tr th:only-of-type {\n        vertical-align: middle;\n    }\n\n    .dataframe tbody tr th {\n        vertical-align: top;\n    }\n\n    .dataframe thead th {\n        text-align: right;\n    }\n</style>\n<table border=\"1\" class=\"dataframe\">\n  <thead>\n    <tr style=\"text-align: right;\">\n      <th></th>\n      <th>Gene_Symbol</th>\n      <th>HCC1395_BREAST_TenPx15</th>\n      <th>HCC1937_BREAST_TenPx18</th>\n    </tr>\n  </thead>\n  <tbody>\n    <tr>\n      <th>3476</th>\n      <td>CASC5</td>\n      <td>-0.342402</td>\n      <td>1.062156</td>\n    </tr>\n    <tr>\n      <th>5088</th>\n      <td>NDC80</td>\n      <td>0.400557</td>\n      <td>-0.014357</td>\n    </tr>\n    <tr>\n      <th>5383</th>\n      <td>PLK1</td>\n      <td>0.128413</td>\n      <td>0.324359</td>\n    </tr>\n    <tr>\n      <th>6040</th>\n      <td>AURKB</td>\n      <td>0.085803</td>\n      <td>0.784818</td>\n    </tr>\n    <tr>\n      <th>6380</th>\n      <td>BIRC5</td>\n      <td>-0.070965</td>\n      <td>1.396607</td>\n    </tr>\n    <tr>\n      <th>6564</th>\n      <td>TTK</td>\n      <td>0.896795</td>\n      <td>0.398749</td>\n    </tr>\n    <tr>\n      <th>7786</th>\n      <td>CDCA8</td>\n      <td>-0.015251</td>\n      <td>0.340106</td>\n    </tr>\n    <tr>\n      <th>7825</th>\n      <td>BUB1</td>\n      <td>-0.868929</td>\n      <td>0.506849</td>\n    </tr>\n    <tr>\n      <th>8548</th>\n      <td>GSG2</td>\n      <td>-0.024352</td>\n      <td>NaN</td>\n    </tr>\n    <tr>\n      <th>8587</th>\n      <td>SGOL1</td>\n      <td>-0.057897</td>\n      <td>NaN</td>\n    </tr>\n    <tr>\n      <th>10720</th>\n      <td>INCENP</td>\n      <td>0.494052</td>\n      <td>0.980562</td>\n    </tr>\n  </tbody>\n</table>\n</div>"
     },
     "execution_count": 16,
     "metadata": {},
     "output_type": "execute_result"
    }
   ],
   "source": [
    "data_sub.loc[data_sub[\"Gene_Symbol\"].isin(model_proteins)]"
   ],
   "metadata": {
    "collapsed": false,
    "ExecuteTime": {
     "end_time": "2023-09-12T19:33:37.007588Z",
     "start_time": "2023-09-12T19:33:36.952663Z"
    }
   }
  },
  {
   "cell_type": "code",
   "execution_count": null,
   "outputs": [],
   "source": [],
   "metadata": {
    "collapsed": false
   }
  }
 ],
 "metadata": {
  "kernelspec": {
   "display_name": "Python 3",
   "language": "python",
   "name": "python3"
  },
  "language_info": {
   "codemirror_mode": {
    "name": "ipython",
    "version": 2
   },
   "file_extension": ".py",
   "mimetype": "text/x-python",
   "name": "python",
   "nbconvert_exporter": "python",
   "pygments_lexer": "ipython2",
   "version": "2.7.6"
  }
 },
 "nbformat": 4,
 "nbformat_minor": 0
}
