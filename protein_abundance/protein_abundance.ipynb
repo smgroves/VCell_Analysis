{
 "cells": [
  {
   "cell_type": "markdown",
   "source": [
    "# Proteomics Data Analysis"
   ],
   "metadata": {
    "collapsed": false
   }
  },
  {
   "cell_type": "markdown",
   "source": [
    "## Cell lines in CCLE\n"
   ],
   "metadata": {
    "collapsed": false
   }
  },
  {
   "cell_type": "code",
   "execution_count": 1,
   "outputs": [],
   "source": [
    "import pandas as pd\n",
    "\n",
    "#read in data from excel\n",
    "cell_lines = pd.read_excel('CCLE_cell_lines_for_prot.xlsx', sheet_name = \"Sample_Information\")\n"
   ],
   "metadata": {
    "collapsed": false,
    "ExecuteTime": {
     "end_time": "2023-09-12T15:48:57.852170Z",
     "start_time": "2023-09-12T15:48:56.310017Z"
    }
   }
  },
  {
   "cell_type": "code",
   "execution_count": 2,
   "outputs": [],
   "source": [
    "clines_of_interest = [\"MCF10A\",'HCC1937',\"HCC1395\",\"HCC1599\"]\n",
    "mouse_clines_of_interest = [\"NMUMG\",\"4T1\"]\n",
    "ref_clines_of_interest = [\"HeLa\",'RPES']"
   ],
   "metadata": {
    "collapsed": false,
    "ExecuteTime": {
     "end_time": "2023-09-12T15:48:57.864109Z",
     "start_time": "2023-09-12T15:48:57.857102Z"
    }
   }
  },
  {
   "cell_type": "code",
   "execution_count": 3,
   "outputs": [
    {
     "data": {
      "text/plain": "  Cell Line                        CCLE Code           Tissue of Origin  \\\n0    CAL-33  CAL33_UPPER_AERODIGESTIVE_TRACT  Upper Aerodigestive Tract   \n1    Hs578t                    HS578T_BREAST                     Breast   \n2     SW837            SW837_LARGE_INTESTINE            Large Intestine   \n3  WM-266-4                      WM2664_SKIN                       Skin   \n4    CAL-51                     CAL51_BREAST                     Breast   \n\n   Protein 10-Plex ID Protein TMT Label        Notes  \n0                   0               126  Bridge line  \n1                   0              127c  Bridge line  \n2                   0              127n  Bridge line  \n3                   0              128c  Bridge line  \n4                   0              128n  Bridge line  ",
      "text/html": "<div>\n<style scoped>\n    .dataframe tbody tr th:only-of-type {\n        vertical-align: middle;\n    }\n\n    .dataframe tbody tr th {\n        vertical-align: top;\n    }\n\n    .dataframe thead th {\n        text-align: right;\n    }\n</style>\n<table border=\"1\" class=\"dataframe\">\n  <thead>\n    <tr style=\"text-align: right;\">\n      <th></th>\n      <th>Cell Line</th>\n      <th>CCLE Code</th>\n      <th>Tissue of Origin</th>\n      <th>Protein 10-Plex ID</th>\n      <th>Protein TMT Label</th>\n      <th>Notes</th>\n    </tr>\n  </thead>\n  <tbody>\n    <tr>\n      <th>0</th>\n      <td>CAL-33</td>\n      <td>CAL33_UPPER_AERODIGESTIVE_TRACT</td>\n      <td>Upper Aerodigestive Tract</td>\n      <td>0</td>\n      <td>126</td>\n      <td>Bridge line</td>\n    </tr>\n    <tr>\n      <th>1</th>\n      <td>Hs578t</td>\n      <td>HS578T_BREAST</td>\n      <td>Breast</td>\n      <td>0</td>\n      <td>127c</td>\n      <td>Bridge line</td>\n    </tr>\n    <tr>\n      <th>2</th>\n      <td>SW837</td>\n      <td>SW837_LARGE_INTESTINE</td>\n      <td>Large Intestine</td>\n      <td>0</td>\n      <td>127n</td>\n      <td>Bridge line</td>\n    </tr>\n    <tr>\n      <th>3</th>\n      <td>WM-266-4</td>\n      <td>WM2664_SKIN</td>\n      <td>Skin</td>\n      <td>0</td>\n      <td>128c</td>\n      <td>Bridge line</td>\n    </tr>\n    <tr>\n      <th>4</th>\n      <td>CAL-51</td>\n      <td>CAL51_BREAST</td>\n      <td>Breast</td>\n      <td>0</td>\n      <td>128n</td>\n      <td>Bridge line</td>\n    </tr>\n  </tbody>\n</table>\n</div>"
     },
     "execution_count": 3,
     "metadata": {},
     "output_type": "execute_result"
    }
   ],
   "source": [
    "cell_lines.head()"
   ],
   "metadata": {
    "collapsed": false,
    "ExecuteTime": {
     "end_time": "2023-09-12T15:49:09.449649Z",
     "start_time": "2023-09-12T15:49:09.234679Z"
    }
   }
  },
  {
   "cell_type": "code",
   "execution_count": 5,
   "outputs": [
    {
     "name": "stdout",
     "output_type": "stream",
     "text": [
      "MCF10A\n",
      "not found\n",
      "HCC1937\n",
      "Found in dataset\n",
      "HCC1395\n",
      "Found in dataset\n",
      "HCC1599\n",
      "not found\n"
     ]
    }
   ],
   "source": [
    "for i in clines_of_interest:\n",
    "    print(i)\n",
    "    if cell_lines[cell_lines[\"Cell Line\"]==i].empty:\n",
    "        print(\"not found\")\n",
    "    else:\n",
    "        print('Found in dataset')"
   ],
   "metadata": {
    "collapsed": false,
    "ExecuteTime": {
     "end_time": "2023-09-12T15:50:55.468795Z",
     "start_time": "2023-09-12T15:50:55.403430Z"
    }
   }
  },
  {
   "cell_type": "code",
   "execution_count": null,
   "outputs": [],
   "source": [],
   "metadata": {
    "collapsed": false
   }
  },
  {
   "cell_type": "markdown",
   "source": [
    "## Proteins in CCLE"
   ],
   "metadata": {
    "collapsed": false
   }
  },
  {
   "cell_type": "code",
   "execution_count": 8,
   "outputs": [],
   "source": [
    "data = pd.read_excel('CCLE_Protein.xlsx', sheet_name='Normalized Protein Expression')\n"
   ],
   "metadata": {
    "collapsed": false,
    "ExecuteTime": {
     "end_time": "2023-09-12T18:19:59.567210Z",
     "start_time": "2023-09-12T18:18:18.922762Z"
    }
   }
  },
  {
   "cell_type": "code",
   "execution_count": 21,
   "outputs": [],
   "source": [
    "model_proteins = ['BUB1',\n",
    "                  \"AURKB\",\n",
    "                  \"CDCA8\", #Borealin\n",
    "                  \"BIRC5\", #Survivin\n",
    "                  \"CASC5\", #Knl1\n",
    "                  \"SGOL1\", #SGO1\n",
    "                  \"TTK\", #Mps1\n",
    "                  \"GSG2\", #Haspin\n",
    "                  \"PLK1\",\n",
    "                  \"NDC80\",\n",
    "                  'INCENP'\n",
    " ]\n",
    "#uniprot ID mouse:\n",
    "# Aurkb: O70126; Bub1: Q9Z1S0; Ttk: P35761;"
   ],
   "metadata": {
    "collapsed": false,
    "ExecuteTime": {
     "end_time": "2023-09-14T18:31:47.447878Z",
     "start_time": "2023-09-14T18:31:47.429480Z"
    }
   }
  },
  {
   "cell_type": "code",
   "execution_count": 15,
   "outputs": [
    {
     "data": {
      "text/plain": "  Gene_Symbol  HCC1395_BREAST_TenPx15  HCC1937_BREAST_TenPx18\n0     SLC12A2               -0.699377               -0.303711\n1      HOXD13                     NaN                     NaN\n2       KDM1A               -0.142239                0.096498\n3        SOX1               -1.584490                0.368069\n4        SOX2                0.092982               -0.247699",
      "text/html": "<div>\n<style scoped>\n    .dataframe tbody tr th:only-of-type {\n        vertical-align: middle;\n    }\n\n    .dataframe tbody tr th {\n        vertical-align: top;\n    }\n\n    .dataframe thead th {\n        text-align: right;\n    }\n</style>\n<table border=\"1\" class=\"dataframe\">\n  <thead>\n    <tr style=\"text-align: right;\">\n      <th></th>\n      <th>Gene_Symbol</th>\n      <th>HCC1395_BREAST_TenPx15</th>\n      <th>HCC1937_BREAST_TenPx18</th>\n    </tr>\n  </thead>\n  <tbody>\n    <tr>\n      <th>0</th>\n      <td>SLC12A2</td>\n      <td>-0.699377</td>\n      <td>-0.303711</td>\n    </tr>\n    <tr>\n      <th>1</th>\n      <td>HOXD13</td>\n      <td>NaN</td>\n      <td>NaN</td>\n    </tr>\n    <tr>\n      <th>2</th>\n      <td>KDM1A</td>\n      <td>-0.142239</td>\n      <td>0.096498</td>\n    </tr>\n    <tr>\n      <th>3</th>\n      <td>SOX1</td>\n      <td>-1.584490</td>\n      <td>0.368069</td>\n    </tr>\n    <tr>\n      <th>4</th>\n      <td>SOX2</td>\n      <td>0.092982</td>\n      <td>-0.247699</td>\n    </tr>\n  </tbody>\n</table>\n</div>"
     },
     "execution_count": 15,
     "metadata": {},
     "output_type": "execute_result"
    }
   ],
   "source": [
    "# get columns with sample names in them\n",
    "sample_cols = [i for i in data.columns if \"HCC1937\" in i or \"HCC1395\" in i]\n",
    "data_sub = data[[\"Gene_Symbol\"]+sample_cols]\n",
    "data_sub.head()"
   ],
   "metadata": {
    "collapsed": false,
    "ExecuteTime": {
     "end_time": "2023-09-12T19:33:08.361726Z",
     "start_time": "2023-09-12T19:33:08.357517Z"
    }
   }
  },
  {
   "cell_type": "code",
   "execution_count": 16,
   "outputs": [
    {
     "data": {
      "text/plain": "      Gene_Symbol  HCC1395_BREAST_TenPx15  HCC1937_BREAST_TenPx18\n3476        CASC5               -0.342402                1.062156\n5088        NDC80                0.400557               -0.014357\n5383         PLK1                0.128413                0.324359\n6040        AURKB                0.085803                0.784818\n6380        BIRC5               -0.070965                1.396607\n6564          TTK                0.896795                0.398749\n7786        CDCA8               -0.015251                0.340106\n7825         BUB1               -0.868929                0.506849\n8548         GSG2               -0.024352                     NaN\n8587        SGOL1               -0.057897                     NaN\n10720      INCENP                0.494052                0.980562",
      "text/html": "<div>\n<style scoped>\n    .dataframe tbody tr th:only-of-type {\n        vertical-align: middle;\n    }\n\n    .dataframe tbody tr th {\n        vertical-align: top;\n    }\n\n    .dataframe thead th {\n        text-align: right;\n    }\n</style>\n<table border=\"1\" class=\"dataframe\">\n  <thead>\n    <tr style=\"text-align: right;\">\n      <th></th>\n      <th>Gene_Symbol</th>\n      <th>HCC1395_BREAST_TenPx15</th>\n      <th>HCC1937_BREAST_TenPx18</th>\n    </tr>\n  </thead>\n  <tbody>\n    <tr>\n      <th>3476</th>\n      <td>CASC5</td>\n      <td>-0.342402</td>\n      <td>1.062156</td>\n    </tr>\n    <tr>\n      <th>5088</th>\n      <td>NDC80</td>\n      <td>0.400557</td>\n      <td>-0.014357</td>\n    </tr>\n    <tr>\n      <th>5383</th>\n      <td>PLK1</td>\n      <td>0.128413</td>\n      <td>0.324359</td>\n    </tr>\n    <tr>\n      <th>6040</th>\n      <td>AURKB</td>\n      <td>0.085803</td>\n      <td>0.784818</td>\n    </tr>\n    <tr>\n      <th>6380</th>\n      <td>BIRC5</td>\n      <td>-0.070965</td>\n      <td>1.396607</td>\n    </tr>\n    <tr>\n      <th>6564</th>\n      <td>TTK</td>\n      <td>0.896795</td>\n      <td>0.398749</td>\n    </tr>\n    <tr>\n      <th>7786</th>\n      <td>CDCA8</td>\n      <td>-0.015251</td>\n      <td>0.340106</td>\n    </tr>\n    <tr>\n      <th>7825</th>\n      <td>BUB1</td>\n      <td>-0.868929</td>\n      <td>0.506849</td>\n    </tr>\n    <tr>\n      <th>8548</th>\n      <td>GSG2</td>\n      <td>-0.024352</td>\n      <td>NaN</td>\n    </tr>\n    <tr>\n      <th>8587</th>\n      <td>SGOL1</td>\n      <td>-0.057897</td>\n      <td>NaN</td>\n    </tr>\n    <tr>\n      <th>10720</th>\n      <td>INCENP</td>\n      <td>0.494052</td>\n      <td>0.980562</td>\n    </tr>\n  </tbody>\n</table>\n</div>"
     },
     "execution_count": 16,
     "metadata": {},
     "output_type": "execute_result"
    }
   ],
   "source": [
    "data_sub.loc[data_sub[\"Gene_Symbol\"].isin(model_proteins)]"
   ],
   "metadata": {
    "collapsed": false,
    "ExecuteTime": {
     "end_time": "2023-09-12T19:33:37.007588Z",
     "start_time": "2023-09-12T19:33:36.952663Z"
    }
   }
  },
  {
   "cell_type": "code",
   "execution_count": 34,
   "outputs": [],
   "source": [
    "breast = [i for i in data.columns if \"BREAST\" in i]"
   ],
   "metadata": {
    "collapsed": false,
    "ExecuteTime": {
     "end_time": "2023-09-14T18:39:18.851913Z",
     "start_time": "2023-09-14T18:39:18.842052Z"
    }
   }
  },
  {
   "cell_type": "code",
   "execution_count": 36,
   "outputs": [],
   "source": [
    "breast_data = data[['Gene_Symbol']+breast]"
   ],
   "metadata": {
    "collapsed": false,
    "ExecuteTime": {
     "end_time": "2023-09-14T18:39:25.237053Z",
     "start_time": "2023-09-14T18:39:25.230099Z"
    }
   }
  },
  {
   "cell_type": "code",
   "execution_count": 39,
   "outputs": [
    {
     "name": "stderr",
     "output_type": "stream",
     "text": [
      "/var/folders/vh/xk34gq593k53lzm7wlyg64xw0000gn/T/ipykernel_14139/4213377617.py:2: SettingWithCopyWarning: \n",
      "A value is trying to be set on a copy of a slice from a DataFrame\n",
      "\n",
      "See the caveats in the documentation: https://pandas.pydata.org/pandas-docs/stable/user_guide/indexing.html#returning-a-view-versus-a-copy\n",
      "  breast_data.drop('Gene_Symbol', axis=1, inplace=True)\n"
     ]
    },
    {
     "data": {
      "text/plain": "             MDAMB468_BREAST_TenPx01  AU565_BREAST_TenPx01  \\\nGene_Symbol                                                  \nSLC12A2                     2.111348             -0.463928   \nHOXD13                           NaN                   NaN   \nKDM1A                       0.379683              0.191211   \nSOX1                             NaN                   NaN   \nSOX2                       -0.246367             -0.341305   \n\n             CAL51_BREAST_TenPx01  CAL120_BREAST_TenPx02  \\\nGene_Symbol                                                \nSLC12A2                  0.788565              -0.347311   \nHOXD13                        NaN                    NaN   \nKDM1A                    0.391243              -0.245094   \nSOX1                          NaN                    NaN   \nSOX2                    -0.124474                    NaN   \n\n             JIMT1_BREAST_TenPx03  KPL1_BREAST_TenPx03  CAMA1_BREAST_TenPx04  \\\nGene_Symbol                                                                    \nSLC12A2                 -0.928188             1.737461             -0.538170   \nHOXD13                        NaN                  NaN                   NaN   \nKDM1A                   -0.225535             0.669501              0.372413   \nSOX1                    -1.166476             0.417165                   NaN   \nSOX2                    -0.200521            -0.253344             -0.327802   \n\n             BT549_BREAST_TenPx07  CAL851_BREAST_TenPx07  \\\nGene_Symbol                                                \nSLC12A2                 -0.725208               0.191062   \nHOXD13                        NaN                    NaN   \nKDM1A                   -0.456180               0.064371   \nSOX1                          NaN                    NaN   \nSOX2                          NaN                    NaN   \n\n             MDAMB157_BREAST_TenPx07  ...  HCC2218_BREAST_TenPx21  \\\nGene_Symbol                           ...                           \nSLC12A2                    -0.711907  ...                2.387635   \nHOXD13                           NaN  ...                     NaN   \nKDM1A                      -0.320139  ...               -0.364250   \nSOX1                             NaN  ...               -0.995162   \nSOX2                             NaN  ...               -3.392947   \n\n             EFM19_BREAST_TenPx22  MDAMB231_BREAST_TenPx27  \\\nGene_Symbol                                                  \nSLC12A2                  0.024210                -0.833119   \nHOXD13                        NaN                -0.996259   \nKDM1A                    0.676871                -0.634099   \nSOX1                    -0.232445                 1.350044   \nSOX2                    -1.404017                -2.861446   \n\n             CAL120_BREAST_TenPx28  EFM192A_BREAST_TenPx37  \\\nGene_Symbol                                                  \nSLC12A2                  -0.536117                1.350658   \nHOXD13                         NaN                     NaN   \nKDM1A                    -0.487763               -0.385244   \nSOX1                           NaN                     NaN   \nSOX2                           NaN               -0.974087   \n\n             HCC1806_BREAST_TenPx14  HCC1395_BREAST_TenPx15  \\\nGene_Symbol                                                   \nSLC12A2                    0.426052               -0.699377   \nHOXD13                     0.408148                     NaN   \nKDM1A                      0.039815               -0.142239   \nSOX1                            NaN               -1.584490   \nSOX2                      -1.042297                0.092982   \n\n             HDQP1_BREAST_TenPx41  HCC1937_BREAST_TenPx18  BT20_BREAST_TenPx24  \nGene_Symbol                                                                     \nSLC12A2                  0.858136               -0.303711            -1.045727  \nHOXD13                        NaN                     NaN                  NaN  \nKDM1A                    0.213539                0.096498             0.392393  \nSOX1                          NaN                0.368069                  NaN  \nSOX2                    -0.960049               -0.247699            -3.179027  \n\n[5 rows x 31 columns]",
      "text/html": "<div>\n<style scoped>\n    .dataframe tbody tr th:only-of-type {\n        vertical-align: middle;\n    }\n\n    .dataframe tbody tr th {\n        vertical-align: top;\n    }\n\n    .dataframe thead th {\n        text-align: right;\n    }\n</style>\n<table border=\"1\" class=\"dataframe\">\n  <thead>\n    <tr style=\"text-align: right;\">\n      <th></th>\n      <th>MDAMB468_BREAST_TenPx01</th>\n      <th>AU565_BREAST_TenPx01</th>\n      <th>CAL51_BREAST_TenPx01</th>\n      <th>CAL120_BREAST_TenPx02</th>\n      <th>JIMT1_BREAST_TenPx03</th>\n      <th>KPL1_BREAST_TenPx03</th>\n      <th>CAMA1_BREAST_TenPx04</th>\n      <th>BT549_BREAST_TenPx07</th>\n      <th>CAL851_BREAST_TenPx07</th>\n      <th>MDAMB157_BREAST_TenPx07</th>\n      <th>...</th>\n      <th>HCC2218_BREAST_TenPx21</th>\n      <th>EFM19_BREAST_TenPx22</th>\n      <th>MDAMB231_BREAST_TenPx27</th>\n      <th>CAL120_BREAST_TenPx28</th>\n      <th>EFM192A_BREAST_TenPx37</th>\n      <th>HCC1806_BREAST_TenPx14</th>\n      <th>HCC1395_BREAST_TenPx15</th>\n      <th>HDQP1_BREAST_TenPx41</th>\n      <th>HCC1937_BREAST_TenPx18</th>\n      <th>BT20_BREAST_TenPx24</th>\n    </tr>\n    <tr>\n      <th>Gene_Symbol</th>\n      <th></th>\n      <th></th>\n      <th></th>\n      <th></th>\n      <th></th>\n      <th></th>\n      <th></th>\n      <th></th>\n      <th></th>\n      <th></th>\n      <th></th>\n      <th></th>\n      <th></th>\n      <th></th>\n      <th></th>\n      <th></th>\n      <th></th>\n      <th></th>\n      <th></th>\n      <th></th>\n      <th></th>\n    </tr>\n  </thead>\n  <tbody>\n    <tr>\n      <th>SLC12A2</th>\n      <td>2.111348</td>\n      <td>-0.463928</td>\n      <td>0.788565</td>\n      <td>-0.347311</td>\n      <td>-0.928188</td>\n      <td>1.737461</td>\n      <td>-0.538170</td>\n      <td>-0.725208</td>\n      <td>0.191062</td>\n      <td>-0.711907</td>\n      <td>...</td>\n      <td>2.387635</td>\n      <td>0.024210</td>\n      <td>-0.833119</td>\n      <td>-0.536117</td>\n      <td>1.350658</td>\n      <td>0.426052</td>\n      <td>-0.699377</td>\n      <td>0.858136</td>\n      <td>-0.303711</td>\n      <td>-1.045727</td>\n    </tr>\n    <tr>\n      <th>HOXD13</th>\n      <td>NaN</td>\n      <td>NaN</td>\n      <td>NaN</td>\n      <td>NaN</td>\n      <td>NaN</td>\n      <td>NaN</td>\n      <td>NaN</td>\n      <td>NaN</td>\n      <td>NaN</td>\n      <td>NaN</td>\n      <td>...</td>\n      <td>NaN</td>\n      <td>NaN</td>\n      <td>-0.996259</td>\n      <td>NaN</td>\n      <td>NaN</td>\n      <td>0.408148</td>\n      <td>NaN</td>\n      <td>NaN</td>\n      <td>NaN</td>\n      <td>NaN</td>\n    </tr>\n    <tr>\n      <th>KDM1A</th>\n      <td>0.379683</td>\n      <td>0.191211</td>\n      <td>0.391243</td>\n      <td>-0.245094</td>\n      <td>-0.225535</td>\n      <td>0.669501</td>\n      <td>0.372413</td>\n      <td>-0.456180</td>\n      <td>0.064371</td>\n      <td>-0.320139</td>\n      <td>...</td>\n      <td>-0.364250</td>\n      <td>0.676871</td>\n      <td>-0.634099</td>\n      <td>-0.487763</td>\n      <td>-0.385244</td>\n      <td>0.039815</td>\n      <td>-0.142239</td>\n      <td>0.213539</td>\n      <td>0.096498</td>\n      <td>0.392393</td>\n    </tr>\n    <tr>\n      <th>SOX1</th>\n      <td>NaN</td>\n      <td>NaN</td>\n      <td>NaN</td>\n      <td>NaN</td>\n      <td>-1.166476</td>\n      <td>0.417165</td>\n      <td>NaN</td>\n      <td>NaN</td>\n      <td>NaN</td>\n      <td>NaN</td>\n      <td>...</td>\n      <td>-0.995162</td>\n      <td>-0.232445</td>\n      <td>1.350044</td>\n      <td>NaN</td>\n      <td>NaN</td>\n      <td>NaN</td>\n      <td>-1.584490</td>\n      <td>NaN</td>\n      <td>0.368069</td>\n      <td>NaN</td>\n    </tr>\n    <tr>\n      <th>SOX2</th>\n      <td>-0.246367</td>\n      <td>-0.341305</td>\n      <td>-0.124474</td>\n      <td>NaN</td>\n      <td>-0.200521</td>\n      <td>-0.253344</td>\n      <td>-0.327802</td>\n      <td>NaN</td>\n      <td>NaN</td>\n      <td>NaN</td>\n      <td>...</td>\n      <td>-3.392947</td>\n      <td>-1.404017</td>\n      <td>-2.861446</td>\n      <td>NaN</td>\n      <td>-0.974087</td>\n      <td>-1.042297</td>\n      <td>0.092982</td>\n      <td>-0.960049</td>\n      <td>-0.247699</td>\n      <td>-3.179027</td>\n    </tr>\n  </tbody>\n</table>\n<p>5 rows × 31 columns</p>\n</div>"
     },
     "execution_count": 39,
     "metadata": {},
     "output_type": "execute_result"
    }
   ],
   "source": [
    "breast_data.index = breast_data['Gene_Symbol']\n",
    "breast_data.drop('Gene_Symbol', axis=1, inplace=True)\n",
    "breast_data.head()"
   ],
   "metadata": {
    "collapsed": false,
    "ExecuteTime": {
     "end_time": "2023-09-14T18:41:26.771325Z",
     "start_time": "2023-09-14T18:41:26.738766Z"
    }
   }
  },
  {
   "cell_type": "code",
   "execution_count": 47,
   "outputs": [
    {
     "data": {
      "text/plain": "{'AURKB',\n 'BIRC5',\n 'BUB1',\n 'CASC5',\n 'CDCA8',\n 'GSG2',\n 'INCENP',\n 'NDC80',\n 'PLK1',\n 'SGOL1',\n 'TTK'}"
     },
     "execution_count": 47,
     "metadata": {},
     "output_type": "execute_result"
    }
   ],
   "source": [
    "set(breast_data.index).intersection(set(model_proteins))"
   ],
   "metadata": {
    "collapsed": false,
    "ExecuteTime": {
     "end_time": "2023-09-14T18:43:11.034984Z",
     "start_time": "2023-09-14T18:43:11.018966Z"
    }
   }
  },
  {
   "cell_type": "code",
   "execution_count": 44,
   "outputs": [],
   "source": [
    "data_model = breast_data.loc[model_proteins]"
   ],
   "metadata": {
    "collapsed": false,
    "ExecuteTime": {
     "end_time": "2023-09-14T18:42:49.644969Z",
     "start_time": "2023-09-14T18:42:49.632418Z"
    }
   }
  },
  {
   "cell_type": "code",
   "execution_count": 45,
   "outputs": [
    {
     "data": {
      "text/plain": "             MDAMB468_BREAST_TenPx01  AU565_BREAST_TenPx01  \\\nGene_Symbol                                                  \nBUB1                       -0.023445              0.039755   \nAURKB                      -0.058279             -0.722529   \nCDCA8                       0.146511             -0.254920   \nBIRC5                       0.351816             -0.401229   \nCASC5                      -0.123447             -0.239041   \nSGOL1                            NaN                   NaN   \nTTK                         0.853014             -0.117931   \nGSG2                             NaN                   NaN   \nPLK1                       -0.187642             -0.034517   \nNDC80                       0.475772             -0.548868   \nINCENP                      0.046087             -0.155723   \n\n             CAL51_BREAST_TenPx01  CAL120_BREAST_TenPx02  \\\nGene_Symbol                                                \nBUB1                     0.168012               0.150959   \nAURKB                    0.777772               0.405197   \nCDCA8                    0.564989               0.351528   \nBIRC5                    0.647033               0.475564   \nCASC5                    0.176877               0.157099   \nSGOL1                         NaN                    NaN   \nTTK                     -0.321871               0.197435   \nGSG2                          NaN               0.037716   \nPLK1                     0.171916              -0.123829   \nNDC80                    0.125874               1.029880   \nINCENP                   0.654370               0.215479   \n\n             JIMT1_BREAST_TenPx03  KPL1_BREAST_TenPx03  CAMA1_BREAST_TenPx04  \\\nGene_Symbol                                                                    \nBUB1                     0.115552            -0.484967             -0.842154   \nAURKB                   -0.042972            -0.859013             -1.574758   \nCDCA8                    0.186106            -0.344574             -1.282904   \nBIRC5                    0.105604            -0.749893             -1.568951   \nCASC5                    0.260700            -0.893336             -0.769735   \nSGOL1                    0.272527            -0.161640              0.077698   \nTTK                      0.149444            -1.123198             -1.188538   \nGSG2                          NaN                  NaN             -0.578183   \nPLK1                    -0.061040            -0.656116             -1.150509   \nNDC80                    0.207462            -0.822915             -1.067373   \nINCENP                   0.216481            -0.912858             -1.170515   \n\n             BT549_BREAST_TenPx07  CAL851_BREAST_TenPx07  \\\nGene_Symbol                                                \nBUB1                     0.464926              -1.135813   \nAURKB                    0.596165              -0.608539   \nCDCA8                    0.437511              -0.414063   \nBIRC5                    0.152072               0.150354   \nCASC5                    0.427673              -1.080305   \nSGOL1                    0.327034              -0.084952   \nTTK                      0.565357              -0.237179   \nGSG2                          NaN                    NaN   \nPLK1                     0.255744              -0.449991   \nNDC80                    0.709207              -0.554803   \nINCENP                   0.570286              -0.408276   \n\n             MDAMB157_BREAST_TenPx07  ...  HCC2218_BREAST_TenPx21  \\\nGene_Symbol                           ...                           \nBUB1                        1.046275  ...               -0.955957   \nAURKB                       0.265651  ...               -1.823246   \nCDCA8                       0.248623  ...               -0.610384   \nBIRC5                       0.048914  ...               -1.247004   \nCASC5                       0.405101  ...               -0.939556   \nSGOL1                       0.864439  ...               -1.681876   \nTTK                         0.936025  ...               -0.616247   \nGSG2                             NaN  ...                     NaN   \nPLK1                        0.414700  ...               -0.676130   \nNDC80                       0.622958  ...               -0.507762   \nINCENP                      0.174138  ...               -1.444261   \n\n             EFM19_BREAST_TenPx22  MDAMB231_BREAST_TenPx27  \\\nGene_Symbol                                                  \nBUB1                    -0.859266                 0.049861   \nAURKB                   -0.691457                -0.041271   \nCDCA8                   -0.222247                -0.240527   \nBIRC5                         NaN                -0.874006   \nCASC5                    0.149713                -0.339741   \nSGOL1                         NaN                -0.657557   \nTTK                     -0.284482                 0.231939   \nGSG2                          NaN                -0.154264   \nPLK1                    -0.911527                -0.171928   \nNDC80                   -1.114235                 0.621160   \nINCENP                   0.766836                -0.647162   \n\n             CAL120_BREAST_TenPx28  EFM192A_BREAST_TenPx37  \\\nGene_Symbol                                                  \nBUB1                      0.958667                     NaN   \nAURKB                     1.032039               -1.790283   \nCDCA8                     0.820279                0.039516   \nBIRC5                     0.693977                0.527555   \nCASC5                     0.109969                0.263727   \nSGOL1                          NaN                0.969077   \nTTK                       0.643331               -0.369142   \nGSG2                           NaN                0.679921   \nPLK1                      0.478997               -0.948773   \nNDC80                     1.750572               -0.481056   \nINCENP                    0.438874                0.306816   \n\n             HCC1806_BREAST_TenPx14  HCC1395_BREAST_TenPx15  \\\nGene_Symbol                                                   \nBUB1                       0.114990               -0.868929   \nAURKB                      1.688725                0.085803   \nCDCA8                      1.180208               -0.015251   \nBIRC5                      0.973702               -0.070965   \nCASC5                      1.478456               -0.342402   \nSGOL1                      1.544288               -0.057897   \nTTK                       -0.113739                0.896795   \nGSG2                            NaN               -0.024352   \nPLK1                      -0.281049                0.128413   \nNDC80                      0.039039                0.400557   \nINCENP                     0.791666                0.494052   \n\n             HDQP1_BREAST_TenPx41  HCC1937_BREAST_TenPx18  BT20_BREAST_TenPx24  \nGene_Symbol                                                                     \nBUB1                    -0.187482                0.506849            -0.147275  \nAURKB                   -0.043956                0.784818             0.479855  \nCDCA8                    0.012745                0.340106            -0.430072  \nBIRC5                   -0.501863                1.396607            -0.683279  \nCASC5                   -0.586185                1.062156             0.412868  \nSGOL1                         NaN                     NaN            -0.734814  \nTTK                     -0.194308                0.398749             0.307877  \nGSG2                    -0.247556                     NaN             0.036266  \nPLK1                    -0.453642                0.324359            -0.177043  \nNDC80                   -0.059599               -0.014357             0.643549  \nINCENP                  -0.287475                0.980562            -0.805690  \n\n[11 rows x 31 columns]",
      "text/html": "<div>\n<style scoped>\n    .dataframe tbody tr th:only-of-type {\n        vertical-align: middle;\n    }\n\n    .dataframe tbody tr th {\n        vertical-align: top;\n    }\n\n    .dataframe thead th {\n        text-align: right;\n    }\n</style>\n<table border=\"1\" class=\"dataframe\">\n  <thead>\n    <tr style=\"text-align: right;\">\n      <th></th>\n      <th>MDAMB468_BREAST_TenPx01</th>\n      <th>AU565_BREAST_TenPx01</th>\n      <th>CAL51_BREAST_TenPx01</th>\n      <th>CAL120_BREAST_TenPx02</th>\n      <th>JIMT1_BREAST_TenPx03</th>\n      <th>KPL1_BREAST_TenPx03</th>\n      <th>CAMA1_BREAST_TenPx04</th>\n      <th>BT549_BREAST_TenPx07</th>\n      <th>CAL851_BREAST_TenPx07</th>\n      <th>MDAMB157_BREAST_TenPx07</th>\n      <th>...</th>\n      <th>HCC2218_BREAST_TenPx21</th>\n      <th>EFM19_BREAST_TenPx22</th>\n      <th>MDAMB231_BREAST_TenPx27</th>\n      <th>CAL120_BREAST_TenPx28</th>\n      <th>EFM192A_BREAST_TenPx37</th>\n      <th>HCC1806_BREAST_TenPx14</th>\n      <th>HCC1395_BREAST_TenPx15</th>\n      <th>HDQP1_BREAST_TenPx41</th>\n      <th>HCC1937_BREAST_TenPx18</th>\n      <th>BT20_BREAST_TenPx24</th>\n    </tr>\n    <tr>\n      <th>Gene_Symbol</th>\n      <th></th>\n      <th></th>\n      <th></th>\n      <th></th>\n      <th></th>\n      <th></th>\n      <th></th>\n      <th></th>\n      <th></th>\n      <th></th>\n      <th></th>\n      <th></th>\n      <th></th>\n      <th></th>\n      <th></th>\n      <th></th>\n      <th></th>\n      <th></th>\n      <th></th>\n      <th></th>\n      <th></th>\n    </tr>\n  </thead>\n  <tbody>\n    <tr>\n      <th>BUB1</th>\n      <td>-0.023445</td>\n      <td>0.039755</td>\n      <td>0.168012</td>\n      <td>0.150959</td>\n      <td>0.115552</td>\n      <td>-0.484967</td>\n      <td>-0.842154</td>\n      <td>0.464926</td>\n      <td>-1.135813</td>\n      <td>1.046275</td>\n      <td>...</td>\n      <td>-0.955957</td>\n      <td>-0.859266</td>\n      <td>0.049861</td>\n      <td>0.958667</td>\n      <td>NaN</td>\n      <td>0.114990</td>\n      <td>-0.868929</td>\n      <td>-0.187482</td>\n      <td>0.506849</td>\n      <td>-0.147275</td>\n    </tr>\n    <tr>\n      <th>AURKB</th>\n      <td>-0.058279</td>\n      <td>-0.722529</td>\n      <td>0.777772</td>\n      <td>0.405197</td>\n      <td>-0.042972</td>\n      <td>-0.859013</td>\n      <td>-1.574758</td>\n      <td>0.596165</td>\n      <td>-0.608539</td>\n      <td>0.265651</td>\n      <td>...</td>\n      <td>-1.823246</td>\n      <td>-0.691457</td>\n      <td>-0.041271</td>\n      <td>1.032039</td>\n      <td>-1.790283</td>\n      <td>1.688725</td>\n      <td>0.085803</td>\n      <td>-0.043956</td>\n      <td>0.784818</td>\n      <td>0.479855</td>\n    </tr>\n    <tr>\n      <th>CDCA8</th>\n      <td>0.146511</td>\n      <td>-0.254920</td>\n      <td>0.564989</td>\n      <td>0.351528</td>\n      <td>0.186106</td>\n      <td>-0.344574</td>\n      <td>-1.282904</td>\n      <td>0.437511</td>\n      <td>-0.414063</td>\n      <td>0.248623</td>\n      <td>...</td>\n      <td>-0.610384</td>\n      <td>-0.222247</td>\n      <td>-0.240527</td>\n      <td>0.820279</td>\n      <td>0.039516</td>\n      <td>1.180208</td>\n      <td>-0.015251</td>\n      <td>0.012745</td>\n      <td>0.340106</td>\n      <td>-0.430072</td>\n    </tr>\n    <tr>\n      <th>BIRC5</th>\n      <td>0.351816</td>\n      <td>-0.401229</td>\n      <td>0.647033</td>\n      <td>0.475564</td>\n      <td>0.105604</td>\n      <td>-0.749893</td>\n      <td>-1.568951</td>\n      <td>0.152072</td>\n      <td>0.150354</td>\n      <td>0.048914</td>\n      <td>...</td>\n      <td>-1.247004</td>\n      <td>NaN</td>\n      <td>-0.874006</td>\n      <td>0.693977</td>\n      <td>0.527555</td>\n      <td>0.973702</td>\n      <td>-0.070965</td>\n      <td>-0.501863</td>\n      <td>1.396607</td>\n      <td>-0.683279</td>\n    </tr>\n    <tr>\n      <th>CASC5</th>\n      <td>-0.123447</td>\n      <td>-0.239041</td>\n      <td>0.176877</td>\n      <td>0.157099</td>\n      <td>0.260700</td>\n      <td>-0.893336</td>\n      <td>-0.769735</td>\n      <td>0.427673</td>\n      <td>-1.080305</td>\n      <td>0.405101</td>\n      <td>...</td>\n      <td>-0.939556</td>\n      <td>0.149713</td>\n      <td>-0.339741</td>\n      <td>0.109969</td>\n      <td>0.263727</td>\n      <td>1.478456</td>\n      <td>-0.342402</td>\n      <td>-0.586185</td>\n      <td>1.062156</td>\n      <td>0.412868</td>\n    </tr>\n    <tr>\n      <th>SGOL1</th>\n      <td>NaN</td>\n      <td>NaN</td>\n      <td>NaN</td>\n      <td>NaN</td>\n      <td>0.272527</td>\n      <td>-0.161640</td>\n      <td>0.077698</td>\n      <td>0.327034</td>\n      <td>-0.084952</td>\n      <td>0.864439</td>\n      <td>...</td>\n      <td>-1.681876</td>\n      <td>NaN</td>\n      <td>-0.657557</td>\n      <td>NaN</td>\n      <td>0.969077</td>\n      <td>1.544288</td>\n      <td>-0.057897</td>\n      <td>NaN</td>\n      <td>NaN</td>\n      <td>-0.734814</td>\n    </tr>\n    <tr>\n      <th>TTK</th>\n      <td>0.853014</td>\n      <td>-0.117931</td>\n      <td>-0.321871</td>\n      <td>0.197435</td>\n      <td>0.149444</td>\n      <td>-1.123198</td>\n      <td>-1.188538</td>\n      <td>0.565357</td>\n      <td>-0.237179</td>\n      <td>0.936025</td>\n      <td>...</td>\n      <td>-0.616247</td>\n      <td>-0.284482</td>\n      <td>0.231939</td>\n      <td>0.643331</td>\n      <td>-0.369142</td>\n      <td>-0.113739</td>\n      <td>0.896795</td>\n      <td>-0.194308</td>\n      <td>0.398749</td>\n      <td>0.307877</td>\n    </tr>\n    <tr>\n      <th>GSG2</th>\n      <td>NaN</td>\n      <td>NaN</td>\n      <td>NaN</td>\n      <td>0.037716</td>\n      <td>NaN</td>\n      <td>NaN</td>\n      <td>-0.578183</td>\n      <td>NaN</td>\n      <td>NaN</td>\n      <td>NaN</td>\n      <td>...</td>\n      <td>NaN</td>\n      <td>NaN</td>\n      <td>-0.154264</td>\n      <td>NaN</td>\n      <td>0.679921</td>\n      <td>NaN</td>\n      <td>-0.024352</td>\n      <td>-0.247556</td>\n      <td>NaN</td>\n      <td>0.036266</td>\n    </tr>\n    <tr>\n      <th>PLK1</th>\n      <td>-0.187642</td>\n      <td>-0.034517</td>\n      <td>0.171916</td>\n      <td>-0.123829</td>\n      <td>-0.061040</td>\n      <td>-0.656116</td>\n      <td>-1.150509</td>\n      <td>0.255744</td>\n      <td>-0.449991</td>\n      <td>0.414700</td>\n      <td>...</td>\n      <td>-0.676130</td>\n      <td>-0.911527</td>\n      <td>-0.171928</td>\n      <td>0.478997</td>\n      <td>-0.948773</td>\n      <td>-0.281049</td>\n      <td>0.128413</td>\n      <td>-0.453642</td>\n      <td>0.324359</td>\n      <td>-0.177043</td>\n    </tr>\n    <tr>\n      <th>NDC80</th>\n      <td>0.475772</td>\n      <td>-0.548868</td>\n      <td>0.125874</td>\n      <td>1.029880</td>\n      <td>0.207462</td>\n      <td>-0.822915</td>\n      <td>-1.067373</td>\n      <td>0.709207</td>\n      <td>-0.554803</td>\n      <td>0.622958</td>\n      <td>...</td>\n      <td>-0.507762</td>\n      <td>-1.114235</td>\n      <td>0.621160</td>\n      <td>1.750572</td>\n      <td>-0.481056</td>\n      <td>0.039039</td>\n      <td>0.400557</td>\n      <td>-0.059599</td>\n      <td>-0.014357</td>\n      <td>0.643549</td>\n    </tr>\n    <tr>\n      <th>INCENP</th>\n      <td>0.046087</td>\n      <td>-0.155723</td>\n      <td>0.654370</td>\n      <td>0.215479</td>\n      <td>0.216481</td>\n      <td>-0.912858</td>\n      <td>-1.170515</td>\n      <td>0.570286</td>\n      <td>-0.408276</td>\n      <td>0.174138</td>\n      <td>...</td>\n      <td>-1.444261</td>\n      <td>0.766836</td>\n      <td>-0.647162</td>\n      <td>0.438874</td>\n      <td>0.306816</td>\n      <td>0.791666</td>\n      <td>0.494052</td>\n      <td>-0.287475</td>\n      <td>0.980562</td>\n      <td>-0.805690</td>\n    </tr>\n  </tbody>\n</table>\n<p>11 rows × 31 columns</p>\n</div>"
     },
     "execution_count": 45,
     "metadata": {},
     "output_type": "execute_result"
    }
   ],
   "source": [
    "data_model"
   ],
   "metadata": {
    "collapsed": false,
    "ExecuteTime": {
     "end_time": "2023-09-14T18:42:50.229817Z",
     "start_time": "2023-09-14T18:42:50.198397Z"
    }
   }
  },
  {
   "cell_type": "code",
   "execution_count": 51,
   "outputs": [
    {
     "name": "stdout",
     "output_type": "stream",
     "text": [
      "CAMA1_BREAST_TenPx04\n",
      "T47D_BREAST_TenPx09\n",
      "HCC38_BREAST_TenPx11\n",
      "HCC1500_BREAST_TenPx12\n",
      "MDAMB436_BREAST_TenPx12\n",
      "HCC1143_BREAST_TenPx16\n",
      "HCC1187_BREAST_TenPx20\n",
      "MDAMB231_BREAST_TenPx27\n",
      "HCC1395_BREAST_TenPx15\n",
      "BT20_BREAST_TenPx24\n"
     ]
    }
   ],
   "source": [
    "full_samples = []\n",
    "for i in data_model.columns:\n",
    "    if data_model[i].isna().sum() == 0:\n",
    "        print(i)\n",
    "        full_samples.append(i)"
   ],
   "metadata": {
    "collapsed": false,
    "ExecuteTime": {
     "end_time": "2023-09-14T18:49:35.154079Z",
     "start_time": "2023-09-14T18:49:35.146715Z"
    }
   }
  },
  {
   "cell_type": "code",
   "execution_count": 50,
   "outputs": [],
   "source": [
    "data_model.to_csv('bc_CCLE_TMT_model_proteins.csv')"
   ],
   "metadata": {
    "collapsed": false,
    "ExecuteTime": {
     "end_time": "2023-09-14T18:46:53.598588Z",
     "start_time": "2023-09-14T18:46:53.542442Z"
    }
   }
  },
  {
   "cell_type": "code",
   "execution_count": 53,
   "outputs": [],
   "source": [
    "data_model[full_samples+['HCC1937_BREAST_TenPx18']].to_csv('bc_CCLE_TMT_model_proteins_full_samples.csv')"
   ],
   "metadata": {
    "collapsed": false,
    "ExecuteTime": {
     "end_time": "2023-09-14T18:50:39.276310Z",
     "start_time": "2023-09-14T18:50:39.259390Z"
    }
   }
  },
  {
   "cell_type": "code",
   "execution_count": null,
   "outputs": [],
   "source": [],
   "metadata": {
    "collapsed": false
   }
  }
 ],
 "metadata": {
  "kernelspec": {
   "display_name": "Python 3",
   "language": "python",
   "name": "python3"
  },
  "language_info": {
   "codemirror_mode": {
    "name": "ipython",
    "version": 2
   },
   "file_extension": ".py",
   "mimetype": "text/x-python",
   "name": "python",
   "nbconvert_exporter": "python",
   "pygments_lexer": "ipython2",
   "version": "2.7.6"
  }
 },
 "nbformat": 4,
 "nbformat_minor": 0
}
